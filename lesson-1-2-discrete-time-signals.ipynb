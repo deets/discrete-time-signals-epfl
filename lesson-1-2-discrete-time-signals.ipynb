{
 "cells": [
  {
   "cell_type": "code",
   "execution_count": 3,
   "metadata": {},
   "outputs": [],
   "source": [
    "import numpy as np\n",
    "import matplotlib.pyplot as plt\n"
   ]
  },
  {
   "cell_type": "markdown",
   "metadata": {},
   "source": [
    "# Lesson 1.2: Discrete Time Signals\n",
    "\n",
    "Discrete time signals are values recorded at specific moments in time. Think e.g. daily measurements of the water level of your local river.\n",
    "\n",
    "Formally though they are defined as a (for now) one-dimensional sequence noted as \n",
    "\n",
    "\\begin{align}\n",
    "x[n]\n",
    "\\end{align}\n",
    "\n",
    "where $n\\in\\mathbb{Z}$ and $x[n]\\in\\mathbb{C}$, the complex numbers.\n",
    "\n",
    "A common visualisation to emphasise the discrete nature of the values is a **Lollipop Diagram**.\n",
    "\n"
   ]
  },
  {
   "cell_type": "code",
   "execution_count": 5,
   "metadata": {},
   "outputs": [
    {
     "data": {
      "image/png": "[encoded data removed]",
      "text/plain": [
       "<Figure size 432x288 with 1 Axes>"
      ]
     },
     "metadata": {
      "needs_background": "light"
     },
     "output_type": "display_data"
    }
   ],
   "source": [
    "x = range(1,41)\n",
    "values = np.random.uniform(size=40)\n",
    " \n",
    "# stem function: first way\n",
    "plt.stem(x, values, use_line_collection=True)\n",
    "plt.ylim(0, 1.2)\n",
    "plt.show()"
   ]
  },
  {
   "cell_type": "markdown",
   "metadata": {},
   "source": [
    "An important remark: the time dimension signified by $n$ is **a-dimensional**. It does not have a dimension, but is just the order of samples.\n",
    "\n",
    "# Important Prototypical Time Series\n",
    "\n",
    "## Delta\n",
    "\n",
    "A simple series where everything is zero with the exception of a one at point zero."
   ]
  },
  {
   "cell_type": "code",
   "execution_count": 8,
   "metadata": {},
   "outputs": [
    {
     "data": {
      "image/png": "[encoded data removed]",
      "text/plain": [
       "<Figure size 432x288 with 1 Axes>"
      ]
     },
     "metadata": {
      "needs_background": "light"
     },
     "output_type": "display_data"
    }
   ],
   "source": [
    "x = range(-20, 20 + 1)\n",
    "values = np.zeros((41, ))\n",
    "values[20] = 1.0\n",
    " \n",
    "# stem function: first way\n",
    "plt.stem(x, values, use_line_collection=True)\n",
    "plt.ylim(-0.1, 1.2)\n",
    "plt.show()"
   ]
  },
  {
   "cell_type": "markdown",
   "metadata": {},
   "source": [
    "## Unit step\n",
    "\n",
    "From -infinity until step -1 all values are zero, from step 0 to infinity all values are 1."
   ]
  },
  {
   "cell_type": "code",
   "execution_count": 9,
   "metadata": {},
   "outputs": [
    {
     "data": {
      "image/png": "[encoded data removed]",
      "text/plain": [
       "<Figure size 432x288 with 1 Axes>"
      ]
     },
     "metadata": {
      "needs_background": "light"
     },
     "output_type": "display_data"
    }
   ],
   "source": [
    "x = range(-20, 20 + 1)\n",
    "values = np.zeros((41, ))\n",
    "values[20:] = 1.0\n",
    " \n",
    "plt.stem(x, values, use_line_collection=True)\n",
    "plt.ylim(-0.1, 1.2)\n",
    "plt.show()"
   ]
  },
  {
   "cell_type": "markdown",
   "metadata": {},
   "source": [
    "## Exponential Decay\n",
    "\n",
    "All zeros until -1, then take an $a, a\\in[0..1)$ where $x[0] = a^0, x[1] = a^1, x[i] = a^i$."
   ]
  },
  {
   "cell_type": "code",
   "execution_count": 11,
   "metadata": {},
   "outputs": [
    {
     "data": {
      "image/png": "[encoded data removed]",
      "text/plain": [
       "<Figure size 432x288 with 1 Axes>"
      ]
     },
     "metadata": {
      "needs_background": "light"
     },
     "output_type": "display_data"
    }
   ],
   "source": [
    "x = range(-20, 20 + 1)\n",
    "values = np.zeros((41, ))\n",
    "values[20:] = 0.9\n",
    "for i in range(21):\n",
    "    values[20 + i] = values[20 + i] ** i\n",
    " \n",
    "plt.stem(x, values, use_line_collection=True)\n",
    "plt.ylim(-0.1, 1.2)\n",
    "plt.show()"
   ]
  },
  {
   "cell_type": "code",
   "execution_count": 17,
   "metadata": {},
   "outputs": [
    {
     "data": {
      "image/png": "[encoded data removed]",
      "text/plain": [
       "<Figure size 432x288 with 1 Axes>"
      ]
     },
     "metadata": {
      "needs_background": "light"
     },
     "output_type": "display_data"
    }
   ],
   "source": [
    "x = range(-20, 20 + 1)\n",
    "values = np.linspace(-20, 20, num=len(x))\n",
    "\n",
    "values = np.sin(values * 0.4)\n",
    "plt.stem(x, values, use_line_collection=True)\n",
    "plt.ylim(-1.2, 1.2)\n",
    "plt.show()"
   ]
  },
  {
   "cell_type": "markdown",
   "metadata": {},
   "source": [
    "# Classes of Signals\n",
    "\n",
    "We describe four distinguished types of signals:\n",
    "\n",
    " - finite signals, where $x[n]$ with $n\\in[0..N-1], N\\in\\mathbb{N}$. Can be thought of like numpy arrays. Sometimes we use vector notation $x = [v_0 v_1 ... v_{N-1}]^T$.\n",
    " - infinite signals, where $n\\in\\mathbb{Z}$. They mostly serve theoretical purposes to develop the tools for DSP.\n",
    " - periodic signals, where $\\tilde{x}[n] = \\tilde{x}[n + kN], n,k,N\\in\\mathbb{Z}$. Here the data repeats every $N$ samples. They contain the same amount of information as do finite signals, but are infinite in nature, bridging finite and infinite signals.\n",
    " - finite support sequences.\n",
    " \\begin{align}\n",
    "\\bar{x}[n] = \n",
    "\\begin{cases}\n",
    "x[n] & if 0\\in[0..N]\\\\\n",
    "0 & otherwise\n",
    "\\end{cases}\n",
    "\\end{align}\n",
    "\n",
    "They also contain the same amount of information as and act as bridge.\n",
    "\n",
    "# Elementary operators on Signals\n",
    " - scaling: $y[n] = \\alpha x[n], \\alpha\\in\\mathbb{C}$\n",
    " - sum: $y[n] = x[n] + z[n]$\n",
    " - product: $y[n] = x[n]\\cdot z[n]$\n",
    " - shift/delay by $k$: $y[n] = x[n + k]$\n",
    " \n",
    " There is a caveat with the shift - we have to be careful about the index ranges. As $x[n]$ is only defined for $n\\in[0..N]$. So if $n+k > N$ we have to make a choice: either we use $\\bar{x}$ instead of $x$ so we obtain zeros for those $n+k$. Or we use $\\tilde{x}$ instead, basically rotating the sequence $x$ by $k$.\n",
    "\n",
    "# Energy and Power\n",
    "\n",
    "The energy of a signal is the sum of it's squared values.\n",
    "\n",
    "\\begin{align}\n",
    "E_x=\\sum_{n=-\\infty}^{+\\infty}x[n]^2\n",
    "\\end{align}\n",
    "\n",
    "However for nearly all signals the energy is infinite, because the signals have an infinite number of non-zero samples. So to classify energetic properties we use power instead - energy in a window of values $x[n], n\\in[-N..N]$ over the number of steps $2N+1$.\n",
    "\n",
    "\\begin{align}\n",
    "P_x=\\lim_{N\\to\\infty}\\frac{1}{2N+1}\\sum_{n=-N}^{N}x[n]^2\n",
    "\\end{align}"
   ]
  },
  {
   "cell_type": "code",
   "execution_count": null,
   "metadata": {},
   "outputs": [],
   "source": []
  }
 ],
 "metadata": {
  "kernelspec": {
   "display_name": "Python 3",
   "language": "python",
   "name": "python3"
  },
  "language_info": {
   "codemirror_mode": {
    "name": "ipython",
    "version": 3
   },
   "file_extension": ".py",
   "mimetype": "text/x-python",
   "name": "python",
   "nbconvert_exporter": "python",
   "pygments_lexer": "ipython3",
   "version": "3.7.1"
  }
 },
 "nbformat": 4,
 "nbformat_minor": 2
}
